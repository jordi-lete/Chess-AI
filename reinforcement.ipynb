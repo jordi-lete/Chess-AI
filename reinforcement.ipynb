{
 "cells": [
  {
   "cell_type": "code",
   "execution_count": 1,
   "id": "18e16c92",
   "metadata": {},
   "outputs": [],
   "source": [
    "import chess\n",
    "import RL_utils"
   ]
  },
  {
   "cell_type": "code",
   "execution_count": 2,
   "id": "7ad67955",
   "metadata": {},
   "outputs": [],
   "source": [
    "# Our existing CNN model\n",
    "model_path = \"models/TORCH_250EPOCH_DoubleHead.pth\""
   ]
  },
  {
   "cell_type": "markdown",
   "id": "e31bfe58",
   "metadata": {},
   "source": [
    "## Load stockfish"
   ]
  },
  {
   "cell_type": "code",
   "execution_count": 3,
   "id": "e3143cc0",
   "metadata": {},
   "outputs": [],
   "source": [
    "from RL_utils import PositionEvaluator"
   ]
  },
  {
   "cell_type": "code",
   "execution_count": 4,
   "id": "2df9168f",
   "metadata": {},
   "outputs": [
    {
     "name": "stdout",
     "output_type": "stream",
     "text": [
      "Stockfish initialized with ELO: 1400\n"
     ]
    }
   ],
   "source": [
    "stockfish_path = \"models/stockfish/stockfish-windows-x86-64-avx2.exe\"\n",
    "evaluator = PositionEvaluator(stockfish_path, elo_rating=1400)"
   ]
  },
  {
   "cell_type": "code",
   "execution_count": 5,
   "id": "14b4ef48",
   "metadata": {},
   "outputs": [
    {
     "data": {
      "text/plain": [
       "Move.from_uci('h7h6')"
      ]
     },
     "execution_count": 5,
     "metadata": {},
     "output_type": "execute_result"
    }
   ],
   "source": [
    "board = chess.Board()\n",
    "board.push_uci(\"e2e4\")\n",
    "board.push_uci(\"h7h6\")"
   ]
  },
  {
   "cell_type": "code",
   "execution_count": 6,
   "id": "1b8d0e57",
   "metadata": {},
   "outputs": [
    {
     "name": "stdout",
     "output_type": "stream",
     "text": [
      "Position evaluation: 0.83\n"
     ]
    }
   ],
   "source": [
    "eval_score = evaluator.evaluate_position(board)\n",
    "print(f\"Position evaluation: {eval_score}\")"
   ]
  },
  {
   "cell_type": "code",
   "execution_count": 7,
   "id": "364ac607",
   "metadata": {},
   "outputs": [
    {
     "name": "stdout",
     "output_type": "stream",
     "text": [
      "Best moves: [{'Move': 'd2d4', 'Centipawn': 83, 'Mate': None}, {'Move': 'g1f3', 'Centipawn': 71, 'Mate': None}, {'Move': 'b1c3', 'Centipawn': 68, 'Mate': None}]\n"
     ]
    }
   ],
   "source": [
    "best_moves = evaluator.get_best_moves(board, 3)\n",
    "print(f\"Best moves: {best_moves}\")"
   ]
  },
  {
   "cell_type": "markdown",
   "id": "79f434f5",
   "metadata": {},
   "source": [
    "## Load our CNN trained model"
   ]
  },
  {
   "cell_type": "code",
   "execution_count": 3,
   "id": "46049a6b",
   "metadata": {},
   "outputs": [],
   "source": [
    "model, device = RL_utils.load_model(model_path)\n",
    "model = model.to(device)"
   ]
  },
  {
   "cell_type": "code",
   "execution_count": 4,
   "id": "605a6327",
   "metadata": {},
   "outputs": [
    {
     "ename": "AttributeError",
     "evalue": "'tuple' object has no attribute 'shape'",
     "output_type": "error",
     "traceback": [
      "\u001b[31m---------------------------------------------------------------------------\u001b[39m",
      "\u001b[31mAttributeError\u001b[39m                            Traceback (most recent call last)",
      "\u001b[36mCell\u001b[39m\u001b[36m \u001b[39m\u001b[32mIn[4]\u001b[39m\u001b[32m, line 5\u001b[39m\n\u001b[32m      3\u001b[39m \u001b[38;5;28;01mwith\u001b[39;00m torch.no_grad():\n\u001b[32m      4\u001b[39m     output = model(dummy_input)\n\u001b[32m----> \u001b[39m\u001b[32m5\u001b[39m     \u001b[38;5;28mprint\u001b[39m(\u001b[33mf\u001b[39m\u001b[33m\"\u001b[39m\u001b[33mModel output shape: \u001b[39m\u001b[38;5;132;01m{\u001b[39;00m\u001b[43moutput\u001b[49m\u001b[43m.\u001b[49m\u001b[43mshape\u001b[49m\u001b[38;5;132;01m}\u001b[39;00m\u001b[33m\"\u001b[39m)  \u001b[38;5;66;03m# Should be [1, 4288]\u001b[39;00m\n\u001b[32m      6\u001b[39m     \u001b[38;5;28mprint\u001b[39m(\u001b[33m\"\u001b[39m\u001b[33mModel loaded successfully!\u001b[39m\u001b[33m\"\u001b[39m)\n",
      "\u001b[31mAttributeError\u001b[39m: 'tuple' object has no attribute 'shape'"
     ]
    }
   ],
   "source": [
    "import torch\n",
    "dummy_input = torch.randn(1, 19, 8, 8).to(device)\n",
    "with torch.no_grad():\n",
    "    output = model(dummy_input)\n",
    "    print(f\"Model output shape: {output.shape}\")  # Should be [1, 4288]\n",
    "    print(\"Model loaded successfully!\")"
   ]
  },
  {
   "cell_type": "markdown",
   "id": "00b7e154",
   "metadata": {},
   "source": [
    "## Load the training data"
   ]
  },
  {
   "cell_type": "code",
   "execution_count": 6,
   "id": "e2570efe",
   "metadata": {},
   "outputs": [
    {
     "name": "stdout",
     "output_type": "stream",
     "text": [
      "Extracted 1000 middle game positions\n",
      "Total positions loaded: 1000\n"
     ]
    }
   ],
   "source": [
    "pgn_file = \"games/lichess_db_2016-04.pgn\"\n",
    "positions = []\n",
    "positions += RL_utils.extract_middlegame_positions(pgn_file, evaluator=None, num_positions=1000)\n",
    "print(f\"Total positions loaded: {len(positions)}\")"
   ]
  },
  {
   "cell_type": "code",
   "execution_count": 7,
   "id": "29ea359c",
   "metadata": {},
   "outputs": [],
   "source": [
    "# Test creating a batch\n",
    "# if positions:\n",
    "#     board_tensors, legal_masks, boards = RL_utils.create_training_batch(positions, batch_size=4)\n",
    "#     print(f\"Batch shapes:\")\n",
    "#     print(f\"  Board tensors: {board_tensors.shape}\")\n",
    "#     print(f\"  Legal masks: {legal_masks.shape}\")\n",
    "#     print(f\"  Number of boards: {len(boards)}\")\n",
    "    \n",
    "#     # Show a sample position\n",
    "#     print(f\"\\nSample position FEN: {boards[0].fen()}\")"
   ]
  },
  {
   "cell_type": "code",
   "execution_count": 8,
   "id": "b3324c75",
   "metadata": {},
   "outputs": [],
   "source": [
    "# boards[0]\n",
    "# eval_score = evaluator.evaluate_position(boards[0])\n",
    "# print(f\"Position evaluation: {eval_score}\")"
   ]
  },
  {
   "cell_type": "markdown",
   "id": "f5400975",
   "metadata": {},
   "source": [
    "## Training Loop"
   ]
  },
  {
   "cell_type": "code",
   "execution_count": 9,
   "id": "ee1ab1fe",
   "metadata": {},
   "outputs": [],
   "source": [
    "import random\n",
    "import tqdm\n",
    "import torch\n",
    "import numpy as np"
   ]
  },
  {
   "cell_type": "code",
   "execution_count": null,
   "id": "976b0406",
   "metadata": {},
   "outputs": [],
   "source": [
    "# Training Hyperparameters\n",
    "LEARNING_RATE = 0.02\n",
    "BATCH_SIZE = 64\n",
    "EPOCHS = 5\n",
    "\n",
    "# Self-play\n",
    "NUM_SELF_PLAY_GAMES = 50\n",
    "MAX_GAME_MOVES = 200\n",
    "TEMPERATURE = 1.0\n",
    "\n",
    "# Model Saving\n",
    "MODEL_SAVE_PATH = \"models/dual_head_model.pth\""
   ]
  },
  {
   "cell_type": "code",
   "execution_count": 11,
   "id": "f92ff69d",
   "metadata": {},
   "outputs": [],
   "source": [
    "def generate_self_play_data(model, device, start_positions, num_games=NUM_SELF_PLAY_GAMES):\n",
    "    \"\"\"Generate self-play data with error handling\"\"\"\n",
    "    data = []\n",
    "    successful_games = 0\n",
    "    \n",
    "    for i in range(num_games):\n",
    "        try:\n",
    "            board = random.choice(start_positions)\n",
    "            game_history, result = RL_utils.play_self_play_game(model, device, board, MAX_GAME_MOVES, TEMPERATURE)\n",
    "            \n",
    "            if len(game_history) > 0:  # Only add if we have valid data\n",
    "                data.append((game_history, result))\n",
    "                successful_games += 1\n",
    "                \n",
    "        except Exception as e:\n",
    "            print(f\"Error in game {i}: {e}\")\n",
    "            continue\n",
    "    \n",
    "    print(f\"Generated {successful_games} successful games out of {num_games} attempts\")\n",
    "    return data"
   ]
  },
  {
   "cell_type": "code",
   "execution_count": 12,
   "id": "83df7405",
   "metadata": {},
   "outputs": [],
   "source": [
    "def train_on_self_play(model, optimizer, game_histories, device):\n",
    "    \"\"\"Train model on self-play data with gradient clipping\"\"\"\n",
    "    model.train()\n",
    "    \n",
    "    # Flatten all examples from all games\n",
    "    all_examples = []\n",
    "    for history, result in game_histories:\n",
    "        for board_tensor, legal_mask, move_idx, turn in history:\n",
    "            # Convert result to value from current player's perspective\n",
    "            value = result if turn else -result\n",
    "            all_examples.append((board_tensor, legal_mask, move_idx, value))\n",
    "    \n",
    "    if len(all_examples) == 0:\n",
    "        print(\"No training examples available!\")\n",
    "        return\n",
    "    \n",
    "    print(f\"Training on {len(all_examples)} examples\")\n",
    "    \n",
    "    # Training loop\n",
    "    for epoch in range(EPOCHS):\n",
    "        random.shuffle(all_examples)\n",
    "        epoch_losses = []\n",
    "        \n",
    "        for i in range(0, len(all_examples), BATCH_SIZE):\n",
    "            batch = all_examples[i:i+BATCH_SIZE]\n",
    "            if len(batch) == 0:\n",
    "                continue\n",
    "            \n",
    "            try:\n",
    "                # Prepare batch\n",
    "                boards = torch.cat([ex[0] for ex in batch]).to(device)\n",
    "                masks = torch.stack([ex[1] for ex in batch]).to(device)\n",
    "                move_targets = torch.tensor([ex[2] for ex in batch], dtype=torch.long).to(device)\n",
    "                value_targets = torch.tensor([ex[3] for ex in batch], dtype=torch.float).to(device)\n",
    "                \n",
    "                # Forward pass\n",
    "                optimizer.zero_grad()\n",
    "                policy_logits, value_preds = model(boards)\n",
    "                \n",
    "                # Compute loss\n",
    "                loss, p_loss, v_loss = RL_utils.compute_loss(policy_logits, value_preds, move_targets, value_targets, masks)\n",
    "                \n",
    "                # Check for NaN\n",
    "                if torch.isnan(loss):\n",
    "                    print(\"Skipping batch due to NaN loss\")\n",
    "                    continue\n",
    "                \n",
    "                # Backward pass\n",
    "                loss.backward()\n",
    "                \n",
    "                # Gradient clipping\n",
    "                torch.nn.utils.clip_grad_norm_(model.parameters(), max_norm=1.0)\n",
    "                \n",
    "                optimizer.step()\n",
    "                epoch_losses.append(loss.item())\n",
    "                \n",
    "            except Exception as e:\n",
    "                print(f\"Error in batch {i//BATCH_SIZE}: {e}\")\n",
    "                continue\n",
    "        \n",
    "        if epoch_losses:\n",
    "            avg_loss = np.mean(epoch_losses)\n",
    "            print(f\"Epoch {epoch+1}: avg loss={avg_loss:.4f}\")\n",
    "        else:\n",
    "            print(f\"Epoch {epoch+1}: No valid batches\")\n"
   ]
  },
  {
   "cell_type": "code",
   "execution_count": 13,
   "id": "fc4c7b0d",
   "metadata": {},
   "outputs": [
    {
     "name": "stdout",
     "output_type": "stream",
     "text": [
      "\n",
      "=== Iteration 1 ===\n",
      "Generated 50 successful games out of 50 attempts\n",
      "Training on 8911 examples\n",
      "Epoch 1: avg loss=2.5673\n",
      "Epoch 2: avg loss=2.4884\n",
      "Epoch 3: avg loss=2.3660\n",
      "Epoch 4: avg loss=2.2527\n",
      "Epoch 5: avg loss=2.2032\n",
      "\n",
      "=== Iteration 2 ===\n",
      "Generated 48 successful games out of 50 attempts\n",
      "Training on 8545 examples\n",
      "Epoch 1: avg loss=2.5461\n",
      "Epoch 2: avg loss=2.4784\n",
      "Epoch 3: avg loss=2.3943\n",
      "Epoch 4: avg loss=2.3215\n",
      "Epoch 5: avg loss=2.2797\n",
      "\n",
      "=== Iteration 3 ===\n",
      "Generated 50 successful games out of 50 attempts\n",
      "Training on 9072 examples\n",
      "Epoch 1: avg loss=2.5858\n",
      "Epoch 2: avg loss=2.5293\n",
      "Epoch 3: avg loss=2.4368\n",
      "Epoch 4: avg loss=2.3901\n",
      "Epoch 5: avg loss=2.3349\n",
      "\n",
      "=== Iteration 4 ===\n",
      "Generated 48 successful games out of 50 attempts\n",
      "Training on 8791 examples\n",
      "Epoch 1: avg loss=2.6681\n",
      "Epoch 2: avg loss=2.6060\n",
      "Epoch 3: avg loss=2.5448\n",
      "Epoch 4: avg loss=2.4908\n",
      "Epoch 5: avg loss=2.4262\n",
      "\n",
      "=== Iteration 5 ===\n",
      "Generated 45 successful games out of 50 attempts\n",
      "Training on 8327 examples\n",
      "Epoch 1: avg loss=2.6448\n",
      "Epoch 2: avg loss=2.5754\n",
      "Epoch 3: avg loss=2.5131\n",
      "Epoch 4: avg loss=2.4639\n",
      "Epoch 5: avg loss=2.4180\n"
     ]
    }
   ],
   "source": [
    "model, device = RL_utils.load_model(model_path)\n",
    "optimizer = torch.optim.SGD(model.parameters(), lr=LEARNING_RATE, momentum=0.9)\n",
    "\n",
    "# Main training loop\n",
    "for iteration in range(5):  # 5 outer iterations of self-play + training\n",
    "    print(f\"\\n=== Iteration {iteration+1} ===\")\n",
    "    \n",
    "    # Generate self-play games\n",
    "    self_play_data = generate_self_play_data(model, device, positions)\n",
    "    \n",
    "    # Train model on self-play games\n",
    "    train_on_self_play(model, optimizer, self_play_data, device)\n",
    "\n",
    "    # Save model\n",
    "    torch.save({\n",
    "        'model_state_dict': model.state_dict(),\n",
    "    }, MODEL_SAVE_PATH)"
   ]
  },
  {
   "cell_type": "code",
   "execution_count": null,
   "id": "5a399ea3",
   "metadata": {},
   "outputs": [],
   "source": []
  }
 ],
 "metadata": {
  "kernelspec": {
   "display_name": "chess-ai-venv",
   "language": "python",
   "name": "python3"
  },
  "language_info": {
   "codemirror_mode": {
    "name": "ipython",
    "version": 3
   },
   "file_extension": ".py",
   "mimetype": "text/x-python",
   "name": "python",
   "nbconvert_exporter": "python",
   "pygments_lexer": "ipython3",
   "version": "3.13.5"
  }
 },
 "nbformat": 4,
 "nbformat_minor": 5
}
