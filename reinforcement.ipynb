{
 "cells": [
  {
   "cell_type": "code",
   "execution_count": 1,
   "id": "18e16c92",
   "metadata": {},
   "outputs": [],
   "source": [
    "import chess\n",
    "import RL_utils"
   ]
  },
  {
   "cell_type": "code",
   "execution_count": 2,
   "id": "7ad67955",
   "metadata": {},
   "outputs": [],
   "source": [
    "# Our existing CNN model\n",
    "model_path = \"models/TORCH_250EPOCH 1.pth\""
   ]
  },
  {
   "cell_type": "markdown",
   "id": "e31bfe58",
   "metadata": {},
   "source": [
    "## Load stockfish"
   ]
  },
  {
   "cell_type": "code",
   "execution_count": 3,
   "id": "e3143cc0",
   "metadata": {},
   "outputs": [],
   "source": [
    "from RL_utils import PositionEvaluator"
   ]
  },
  {
   "cell_type": "code",
   "execution_count": 4,
   "id": "2df9168f",
   "metadata": {},
   "outputs": [
    {
     "name": "stdout",
     "output_type": "stream",
     "text": [
      "Stockfish initialized with ELO: 1400\n"
     ]
    }
   ],
   "source": [
    "stockfish_path = \"models/stockfish/stockfish-windows-x86-64-avx2.exe\"\n",
    "evaluator = PositionEvaluator(stockfish_path, elo_rating=1400)"
   ]
  },
  {
   "cell_type": "code",
   "execution_count": 6,
   "id": "14b4ef48",
   "metadata": {},
   "outputs": [
    {
     "data": {
      "text/plain": [
       "Move.from_uci('h7h6')"
      ]
     },
     "execution_count": 6,
     "metadata": {},
     "output_type": "execute_result"
    }
   ],
   "source": [
    "board = chess.Board()\n",
    "board.push_uci(\"e2e4\")\n",
    "board.push_uci(\"h7h6\")"
   ]
  },
  {
   "cell_type": "code",
   "execution_count": 6,
   "id": "1b8d0e57",
   "metadata": {},
   "outputs": [
    {
     "name": "stdout",
     "output_type": "stream",
     "text": [
      "Position evaluation: 0.83\n"
     ]
    }
   ],
   "source": [
    "eval_score = evaluator.evaluate_position(board)\n",
    "print(f\"Position evaluation: {eval_score}\")"
   ]
  },
  {
   "cell_type": "code",
   "execution_count": 7,
   "id": "364ac607",
   "metadata": {},
   "outputs": [
    {
     "name": "stdout",
     "output_type": "stream",
     "text": [
      "Best moves: [{'Move': 'd2d4', 'Centipawn': 83, 'Mate': None}, {'Move': 'g1f3', 'Centipawn': 71, 'Mate': None}, {'Move': 'b1c3', 'Centipawn': 68, 'Mate': None}]\n"
     ]
    }
   ],
   "source": [
    "best_moves = evaluator.get_best_moves(board, 3)\n",
    "print(f\"Best moves: {best_moves}\")"
   ]
  },
  {
   "cell_type": "markdown",
   "id": "79f434f5",
   "metadata": {},
   "source": [
    "## Load our CNN trained model"
   ]
  },
  {
   "cell_type": "code",
   "execution_count": 5,
   "id": "46049a6b",
   "metadata": {},
   "outputs": [],
   "source": [
    "model, device = RL_utils.load_model(model_path)\n",
    "model = model.to(device)"
   ]
  },
  {
   "cell_type": "code",
   "execution_count": 6,
   "id": "605a6327",
   "metadata": {},
   "outputs": [
    {
     "name": "stdout",
     "output_type": "stream",
     "text": [
      "Model output shape: torch.Size([1, 4288])\n",
      "Model loaded successfully!\n"
     ]
    }
   ],
   "source": [
    "import torch\n",
    "dummy_input = torch.randn(1, 19, 8, 8).to(device)\n",
    "with torch.no_grad():\n",
    "    output = model(dummy_input)\n",
    "    print(f\"Model output shape: {output.shape}\")  # Should be [1, 4288]\n",
    "    print(\"Model loaded successfully!\")"
   ]
  },
  {
   "cell_type": "markdown",
   "id": "00b7e154",
   "metadata": {},
   "source": [
    "## Load the training data"
   ]
  },
  {
   "cell_type": "code",
   "execution_count": 7,
   "id": "0f9d68b0",
   "metadata": {},
   "outputs": [
    {
     "name": "stdout",
     "output_type": "stream",
     "text": [
      "Extracted 10 middle game positions\n",
      "Total positions loaded: 10\n"
     ]
    }
   ],
   "source": [
    "pgn_file = \"games/lichess_db_2016-04.pgn\"\n",
    "data = []\n",
    "data += RL_utils.extract_middlegame_positions(pgn_file, evaluator, num_positions=10)\n",
    "print(f\"Total positions loaded: {len(data)}\")"
   ]
  },
  {
   "cell_type": "code",
   "execution_count": 8,
   "id": "29ea359c",
   "metadata": {},
   "outputs": [
    {
     "name": "stdout",
     "output_type": "stream",
     "text": [
      "Batch shapes:\n",
      "  Board tensors: torch.Size([4, 19, 8, 8])\n",
      "  Legal masks: torch.Size([4, 4288])\n",
      "  Number of boards: 4\n",
      "\n",
      "Sample position FEN: 2br1rk1/p1q1bppp/1p3n2/3P4/4P3/1Q6/PP1NB1PP/R1B2RK1 w - - 1 17\n"
     ]
    }
   ],
   "source": [
    "# Test creating a batch\n",
    "if data:\n",
    "    board_tensors, legal_masks, boards = RL_utils.create_training_batch(data, batch_size=4)\n",
    "    print(f\"Batch shapes:\")\n",
    "    print(f\"  Board tensors: {board_tensors.shape}\")\n",
    "    print(f\"  Legal masks: {legal_masks.shape}\")\n",
    "    print(f\"  Number of boards: {len(boards)}\")\n",
    "    \n",
    "    # Show a sample position\n",
    "    print(f\"\\nSample position FEN: {boards[0].fen()}\")"
   ]
  },
  {
   "cell_type": "code",
   "execution_count": 9,
   "id": "b3324c75",
   "metadata": {},
   "outputs": [
    {
     "name": "stdout",
     "output_type": "stream",
     "text": [
      "Position evaluation: -0.27\n"
     ]
    }
   ],
   "source": [
    "boards[0]\n",
    "eval_score = evaluator.evaluate_position(boards[0])\n",
    "print(f\"Position evaluation: {eval_score}\")"
   ]
  },
  {
   "cell_type": "markdown",
   "id": "f5400975",
   "metadata": {},
   "source": [
    "## Training Loop"
   ]
  },
  {
   "cell_type": "code",
   "execution_count": 10,
   "id": "ee1ab1fe",
   "metadata": {},
   "outputs": [],
   "source": [
    "import random\n",
    "import tqdm"
   ]
  },
  {
   "cell_type": "code",
   "execution_count": null,
   "id": "ebcb645c",
   "metadata": {},
   "outputs": [
    {
     "name": "stderr",
     "output_type": "stream",
     "text": [
      "  0%|          | 1/1000 [00:12<3:24:39, 12.29s/it]"
     ]
    },
    {
     "name": "stdout",
     "output_type": "stream",
     "text": [
      "Iteration    0 | Loss: -0.0007 | W/L/D: 0/1/9 | Temp: 1.00\n",
      "Iteration 0 completed\n"
     ]
    },
    {
     "name": "stderr",
     "output_type": "stream",
     "text": [
      "  1%|          | 11/1000 [01:57<2:53:18, 10.51s/it]"
     ]
    },
    {
     "name": "stdout",
     "output_type": "stream",
     "text": [
      "Iteration   10 | Loss: 0.0000 | W/L/D: 0/0/10 | Temp: 0.99\n"
     ]
    },
    {
     "name": "stderr",
     "output_type": "stream",
     "text": [
      "  2%|▏         | 21/1000 [03:35<2:27:33,  9.04s/it]"
     ]
    },
    {
     "name": "stdout",
     "output_type": "stream",
     "text": [
      "Iteration   20 | Loss: 0.0000 | W/L/D: 0/0/10 | Temp: 0.98\n"
     ]
    },
    {
     "name": "stderr",
     "output_type": "stream",
     "text": [
      "  3%|▎         | 30/1000 [04:55<2:17:55,  8.53s/it]"
     ]
    }
   ],
   "source": [
    "num_iterations = 1000\n",
    "games_per_iteration = 10\n",
    "\n",
    "optimiser = torch.optim.Adam(model.parameters(), lr=0.001)\n",
    "\n",
    "for iteration in tqdm.tqdm(range(num_iterations)):\n",
    "    # Collect experience from multiple games\n",
    "    all_game_history = []\n",
    "    all_game_results = []\n",
    "    \n",
    "    # Play several games per iteration\n",
    "    for game_num in range(games_per_iteration):\n",
    "        # Use higher temperature early in training for more exploration\n",
    "        temperature = max(0.1, 1.0 - (iteration / num_iterations))\n",
    "\n",
    "        # We choose a random starting position (this means the same position could be chosen multiple times)\n",
    "        starting_pos = random.choice(data)\n",
    "        game_history, game_result = RL_utils.play_self_play_game(model, device, starting_pos, max_moves=100, temperature=temperature)\n",
    "        \n",
    "        all_game_history.append(game_history)\n",
    "        # Assign rewards: each position gets the final game result\n",
    "        all_game_results.append(game_result)\n",
    "    \n",
    "    # Update model based on collected experience\n",
    "    avg_loss = RL_utils.update_model(model, optimiser, all_game_history, all_game_results, device)\n",
    "    \n",
    "    # if iteration % 10 == 0:\n",
    "    wins = sum(1 for result in all_game_results if result == 1)\n",
    "    losses = sum(1 for result in all_game_results if result == -1)\n",
    "    draws = sum(1 for result in all_game_results if result == 0)\n",
    "    \n",
    "    print(f\"Iteration {iteration:4d} | Loss: {avg_loss:.4f} | \"\n",
    "            f\"W/L/D: {wins}/{losses}/{draws} | Temp: {temperature:.2f}\")\n",
    "\n",
    "    if iteration % 100 == 0:\n",
    "        print(f\"Iteration {iteration} completed\")\n",
    "        torch.save({\n",
    "                'model_state_dict': model.state_dict(),\n",
    "                'optimiser_state_dict': optimiser.state_dict(),\n",
    "                'iteration': iteration\n",
    "            }, f'models/rl_model_iter_{iteration}.pth')"
   ]
  },
  {
   "cell_type": "code",
   "execution_count": null,
   "id": "753e3881",
   "metadata": {},
   "outputs": [],
   "source": []
  }
 ],
 "metadata": {
  "kernelspec": {
   "display_name": "chess-ai-venv",
   "language": "python",
   "name": "python3"
  },
  "language_info": {
   "codemirror_mode": {
    "name": "ipython",
    "version": 3
   },
   "file_extension": ".py",
   "mimetype": "text/x-python",
   "name": "python",
   "nbconvert_exporter": "python",
   "pygments_lexer": "ipython3",
   "version": "3.13.5"
  }
 },
 "nbformat": 4,
 "nbformat_minor": 5
}
