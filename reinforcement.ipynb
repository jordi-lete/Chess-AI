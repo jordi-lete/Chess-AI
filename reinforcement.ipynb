{
 "cells": [
  {
   "cell_type": "code",
   "execution_count": 4,
   "id": "18e16c92",
   "metadata": {},
   "outputs": [],
   "source": [
    "import chess\n",
    "import chess_utils\n",
    "from stockfish import Stockfish"
   ]
  },
  {
   "cell_type": "markdown",
   "id": "e31bfe58",
   "metadata": {},
   "source": [
    "## Load stockfish"
   ]
  },
  {
   "cell_type": "code",
   "execution_count": 7,
   "id": "2df9168f",
   "metadata": {},
   "outputs": [
    {
     "data": {
      "text/plain": [
       "{'Debug Log File': '',\n",
       " 'Contempt': 0,\n",
       " 'Min Split Depth': 0,\n",
       " 'Ponder': 'false',\n",
       " 'MultiPV': 1,\n",
       " 'Skill Level': 20,\n",
       " 'Move Overhead': 10,\n",
       " 'Minimum Thinking Time': 20,\n",
       " 'Slow Mover': 100,\n",
       " 'UCI_Chess960': 'false',\n",
       " 'UCI_LimitStrength': True,\n",
       " 'UCI_Elo': 1200,\n",
       " 'Threads': 1,\n",
       " 'Hash': 16}"
      ]
     },
     "execution_count": 7,
     "metadata": {},
     "output_type": "execute_result"
    }
   ],
   "source": [
    "stockfish_path = \"models/stockfish/stockfish-windows-x86-64-avx2.exe\"\n",
    "engine = Stockfish(stockfish_path)\n",
    "engine.set_elo_rating(1200)\n",
    "engine.update_engine_parameters({\"UCI_LimitStrength\": True})\n",
    "engine.get_parameters()"
   ]
  },
  {
   "cell_type": "code",
   "execution_count": 46,
   "id": "b587cd64",
   "metadata": {},
   "outputs": [],
   "source": [
    "def evaluate_position(board):\n",
    "    \"\"\"Get position evaluation in centipawns\"\"\"\n",
    "    if not engine:\n",
    "        print(\"Engine not loaded\")\n",
    "        return 0.0\n",
    "    \n",
    "    try:\n",
    "        engine.set_fen_position(board.fen())\n",
    "        info = engine.get_evaluation()\n",
    "        type = info[\"type\"]\n",
    "        score = info[\"value\"]\n",
    "        \n",
    "        if type == \"mate\":\n",
    "            return 10.0 if score > 0 else -10.0\n",
    "        else:\n",
    "            return max(-10.0, min(10.0, score / 100.0))  # Clamp to reasonable range\n",
    "    except Exception as e:\n",
    "        print(\"Exception: {}\".format(e))\n",
    "        return 0.0"
   ]
  },
  {
   "cell_type": "code",
   "execution_count": 48,
   "id": "14b4ef48",
   "metadata": {},
   "outputs": [
    {
     "data": {
      "text/plain": [
       "Move.from_uci('h7h6')"
      ]
     },
     "execution_count": 48,
     "metadata": {},
     "output_type": "execute_result"
    }
   ],
   "source": [
    "board = chess.Board()\n",
    "board.push_uci(\"e2e4\")\n",
    "board.push_uci(\"h7h6\")"
   ]
  },
  {
   "cell_type": "code",
   "execution_count": null,
   "id": "1b8d0e57",
   "metadata": {},
   "outputs": [
    {
     "data": {
      "text/plain": [
       "0.83"
      ]
     },
     "execution_count": 45,
     "metadata": {},
     "output_type": "execute_result"
    }
   ],
   "source": [
    "evaluate_position(board)"
   ]
  },
  {
   "cell_type": "code",
   "execution_count": 49,
   "id": "9e82da28",
   "metadata": {},
   "outputs": [
    {
     "data": {
      "text/plain": [
       "[{'Move': 'd2d4', 'Centipawn': 83, 'Mate': None},\n",
       " {'Move': 'g1f3', 'Centipawn': 71, 'Mate': None},\n",
       " {'Move': 'b1c3', 'Centipawn': 68, 'Mate': None}]"
      ]
     },
     "execution_count": 49,
     "metadata": {},
     "output_type": "execute_result"
    }
   ],
   "source": [
    "engine.set_fen_position(board.fen())\n",
    "engine.get_top_moves(3)"
   ]
  },
  {
   "cell_type": "code",
   "execution_count": null,
   "id": "3caa124a",
   "metadata": {},
   "outputs": [],
   "source": [
    "engine.quit()"
   ]
  }
 ],
 "metadata": {
  "kernelspec": {
   "display_name": "chess-ai-venv",
   "language": "python",
   "name": "python3"
  },
  "language_info": {
   "codemirror_mode": {
    "name": "ipython",
    "version": 3
   },
   "file_extension": ".py",
   "mimetype": "text/x-python",
   "name": "python",
   "nbconvert_exporter": "python",
   "pygments_lexer": "ipython3",
   "version": "3.13.3"
  }
 },
 "nbformat": 4,
 "nbformat_minor": 5
}
