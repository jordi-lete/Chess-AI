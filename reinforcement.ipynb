{
 "cells": [
  {
   "cell_type": "code",
   "execution_count": 1,
   "id": "18e16c92",
   "metadata": {},
   "outputs": [],
   "source": [
    "import chess\n",
    "import RL_utils"
   ]
  },
  {
   "cell_type": "code",
   "execution_count": 2,
   "id": "7ad67955",
   "metadata": {},
   "outputs": [],
   "source": [
    "# Our existing CNN model\n",
    "model_path = \"models/TORCH_250EPOCH 1.pth\""
   ]
  },
  {
   "cell_type": "markdown",
   "id": "e31bfe58",
   "metadata": {},
   "source": [
    "## Load stockfish"
   ]
  },
  {
   "cell_type": "code",
   "execution_count": 3,
   "id": "e3143cc0",
   "metadata": {},
   "outputs": [],
   "source": [
    "from RL_utils import PositionEvaluator"
   ]
  },
  {
   "cell_type": "code",
   "execution_count": 4,
   "id": "2df9168f",
   "metadata": {},
   "outputs": [
    {
     "name": "stdout",
     "output_type": "stream",
     "text": [
      "Stockfish initialized with ELO: 1400\n"
     ]
    }
   ],
   "source": [
    "stockfish_path = \"models/stockfish/stockfish-windows-x86-64-avx2.exe\"\n",
    "evaluator = PositionEvaluator(stockfish_path, elo_rating=1400)"
   ]
  },
  {
   "cell_type": "code",
   "execution_count": 5,
   "id": "14b4ef48",
   "metadata": {},
   "outputs": [
    {
     "data": {
      "text/plain": [
       "Move.from_uci('h7h6')"
      ]
     },
     "execution_count": 5,
     "metadata": {},
     "output_type": "execute_result"
    }
   ],
   "source": [
    "board = chess.Board()\n",
    "board.push_uci(\"e2e4\")\n",
    "board.push_uci(\"h7h6\")"
   ]
  },
  {
   "cell_type": "code",
   "execution_count": 6,
   "id": "1b8d0e57",
   "metadata": {},
   "outputs": [
    {
     "name": "stdout",
     "output_type": "stream",
     "text": [
      "Position evaluation: 0.83\n"
     ]
    }
   ],
   "source": [
    "eval_score = evaluator.evaluate_position(board)\n",
    "print(f\"Position evaluation: {eval_score}\")"
   ]
  },
  {
   "cell_type": "code",
   "execution_count": 7,
   "id": "364ac607",
   "metadata": {},
   "outputs": [
    {
     "name": "stdout",
     "output_type": "stream",
     "text": [
      "Best moves: [{'Move': 'd2d4', 'Centipawn': 83, 'Mate': None}, {'Move': 'g1f3', 'Centipawn': 71, 'Mate': None}, {'Move': 'b1c3', 'Centipawn': 68, 'Mate': None}]\n"
     ]
    }
   ],
   "source": [
    "best_moves = evaluator.get_best_moves(board, 3)\n",
    "print(f\"Best moves: {best_moves}\")"
   ]
  },
  {
   "cell_type": "markdown",
   "id": "79f434f5",
   "metadata": {},
   "source": [
    "## Load our CNN trained model"
   ]
  },
  {
   "cell_type": "code",
   "execution_count": 8,
   "id": "46049a6b",
   "metadata": {},
   "outputs": [],
   "source": [
    "model, device = RL_utils.load_model(model_path)\n",
    "model = model.to(device)"
   ]
  },
  {
   "cell_type": "code",
   "execution_count": 9,
   "id": "605a6327",
   "metadata": {},
   "outputs": [
    {
     "name": "stdout",
     "output_type": "stream",
     "text": [
      "Model output shape: torch.Size([1, 4288])\n",
      "Model loaded successfully!\n"
     ]
    }
   ],
   "source": [
    "import torch\n",
    "dummy_input = torch.randn(1, 19, 8, 8).to(device)\n",
    "with torch.no_grad():\n",
    "    output = model(dummy_input)\n",
    "    print(f\"Model output shape: {output.shape}\")  # Should be [1, 4288]\n",
    "    print(\"Model loaded successfully!\")"
   ]
  },
  {
   "cell_type": "markdown",
   "id": "00b7e154",
   "metadata": {},
   "source": [
    "## Load the training data"
   ]
  },
  {
   "cell_type": "code",
   "execution_count": 11,
   "id": "0f9d68b0",
   "metadata": {},
   "outputs": [
    {
     "name": "stdout",
     "output_type": "stream",
     "text": [
      "Extracted 10 middle game positions\n",
      "Total positions loaded: 10\n"
     ]
    }
   ],
   "source": [
    "pgn_file = \"games/lichess_db_2016-04.pgn\"\n",
    "data = []\n",
    "data += RL_utils.extract_middlegame_positions(pgn_file, evaluator, num_positions=10)\n",
    "print(f\"Total positions loaded: {len(data)}\")"
   ]
  },
  {
   "cell_type": "code",
   "execution_count": 12,
   "id": "29ea359c",
   "metadata": {},
   "outputs": [
    {
     "name": "stdout",
     "output_type": "stream",
     "text": [
      "Batch shapes:\n",
      "  Board tensors: torch.Size([4, 19, 8, 8])\n",
      "  Legal masks: torch.Size([4, 4288])\n",
      "  Number of boards: 4\n",
      "\n",
      "Sample position FEN: rn3rk1/ppp1b1pp/1n3p2/4p3/4P1b1/2P2NP1/PP3PBP/R1BR1NK1 w - - 1 13\n"
     ]
    }
   ],
   "source": [
    "# Test creating a batch\n",
    "if data:\n",
    "    board_tensors, legal_masks, boards = RL_utils.create_training_batch(data, batch_size=4)\n",
    "    print(f\"Batch shapes:\")\n",
    "    print(f\"  Board tensors: {board_tensors.shape}\")\n",
    "    print(f\"  Legal masks: {legal_masks.shape}\")\n",
    "    print(f\"  Number of boards: {len(boards)}\")\n",
    "    \n",
    "    # Show a sample position\n",
    "    print(f\"\\nSample position FEN: {boards[0].fen()}\")"
   ]
  },
  {
   "cell_type": "code",
   "execution_count": 16,
   "id": "b3324c75",
   "metadata": {},
   "outputs": [
    {
     "name": "stdout",
     "output_type": "stream",
     "text": [
      "Position evaluation: 0.11\n"
     ]
    }
   ],
   "source": [
    "boards[0]\n",
    "eval_score = evaluator.evaluate_position(boards[0])\n",
    "print(f\"Position evaluation: {eval_score}\")"
   ]
  },
  {
   "cell_type": "code",
   "execution_count": 35,
   "id": "3caa124a",
   "metadata": {},
   "outputs": [
    {
     "ename": "NameError",
     "evalue": "name 'engine' is not defined",
     "output_type": "error",
     "traceback": [
      "\u001b[31m---------------------------------------------------------------------------\u001b[39m",
      "\u001b[31mNameError\u001b[39m                                 Traceback (most recent call last)",
      "\u001b[36mCell\u001b[39m\u001b[36m \u001b[39m\u001b[32mIn[35]\u001b[39m\u001b[32m, line 1\u001b[39m\n\u001b[32m----> \u001b[39m\u001b[32m1\u001b[39m \u001b[43mengine\u001b[49m.quit()\n",
      "\u001b[31mNameError\u001b[39m: name 'engine' is not defined"
     ]
    }
   ],
   "source": [
    "engine.quit()"
   ]
  },
  {
   "cell_type": "code",
   "execution_count": null,
   "id": "ebcb645c",
   "metadata": {},
   "outputs": [],
   "source": []
  }
 ],
 "metadata": {
  "kernelspec": {
   "display_name": "chess-ai-venv",
   "language": "python",
   "name": "python3"
  },
  "language_info": {
   "codemirror_mode": {
    "name": "ipython",
    "version": 3
   },
   "file_extension": ".py",
   "mimetype": "text/x-python",
   "name": "python",
   "nbconvert_exporter": "python",
   "pygments_lexer": "ipython3",
   "version": "3.13.3"
  }
 },
 "nbformat": 4,
 "nbformat_minor": 5
}
