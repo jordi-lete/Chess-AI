{
 "cells": [
  {
   "cell_type": "code",
   "execution_count": 1,
   "id": "1996eff0",
   "metadata": {},
   "outputs": [],
   "source": [
    "import chess\n",
    "import chess_utils"
   ]
  },
  {
   "cell_type": "code",
   "execution_count": 2,
   "id": "fba55085",
   "metadata": {},
   "outputs": [],
   "source": [
    "data = []\n",
    "data += chess_utils.extract_moves_from_pgn(\"games/jalba20-black.pgn\", my_color=\"black\")\n",
    "# data += chess_utils.extract_moves_from_pgn(\"games/Jeedy20-black.pgn\", my_color=\"black\")\n",
    "# data += chess_utils.extract_moves_from_pgn(\"games/jalba20-white.pgn\", my_color=\"white\")\n",
    "# data += chess_utils.extract_moves_from_pgn(\"games/Jeedy20-black.pgn\", my_color=\"white\")\n"
   ]
  },
  {
   "cell_type": "code",
   "execution_count": 89,
   "id": "02ce2dea",
   "metadata": {},
   "outputs": [
    {
     "data": {
      "text/plain": [
       "([[10, 7, 0, 0, 0, 0, 1, 4],\n",
       "  [8, 7, 0, 0, 0, 0, 1, 2],\n",
       "  [9, 7, 0, 0, 1, 0, 0, 3],\n",
       "  [11, 7, 0, 0, 1, 0, 0, 5],\n",
       "  [12, 7, 0, 0, 0, 0, 1, 6],\n",
       "  [9, 7, 8, 0, 0, 0, 1, 3],\n",
       "  [0, 7, 0, 0, 0, 0, 1, 2],\n",
       "  [10, 7, 0, 0, 0, 0, 1, 4]],\n",
       " 'g7g6')"
      ]
     },
     "execution_count": 89,
     "metadata": {},
     "output_type": "execute_result"
    }
   ],
   "source": [
    "data[1]"
   ]
  }
 ],
 "metadata": {
  "kernelspec": {
   "display_name": "chess-ai-venv",
   "language": "python",
   "name": "python3"
  },
  "language_info": {
   "codemirror_mode": {
    "name": "ipython",
    "version": 3
   },
   "file_extension": ".py",
   "mimetype": "text/x-python",
   "name": "python",
   "nbconvert_exporter": "python",
   "pygments_lexer": "ipython3",
   "version": "3.13.3"
  }
 },
 "nbformat": 4,
 "nbformat_minor": 5
}
